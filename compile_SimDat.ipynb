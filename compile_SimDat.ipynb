{
 "cells": [
  {
   "cell_type": "code",
   "execution_count": 2,
   "metadata": {},
   "outputs": [],
   "source": [
    "import numpy as np\n",
    "import matplotlib.pyplot as plt\n",
    "import pandas as pd\n",
    "import os\n",
    "from scipy import stats\n",
    "from numpy import genfromtxt\n",
    "from scipy.integrate import quad\n",
    "import matplotlib.ticker as mtick\n",
    "import scipy\n",
    "import pickle"
   ]
  },
  {
   "cell_type": "code",
   "execution_count": 3,
   "metadata": {},
   "outputs": [],
   "source": [
    "projPath = 'C:/Users/WeNieds/Repos/SIS_externalRes/makeSimData/out/'"
   ]
  },
  {
   "cell_type": "code",
   "execution_count": 4,
   "metadata": {},
   "outputs": [],
   "source": [
    "def genFlName(mdl_name, kappa_val, N_val):\n",
    "    kappa = kappa_val\n",
    "    ku = \"%.3E\" % kappa\n",
    "    ku = ku.replace(\".\",\"p\")\n",
    "    ku = ku.replace(\"-\",\"m\")\n",
    "    ku = ku.replace(\"+\",\"\")\n",
    "\n",
    "    N = N_val\n",
    "    Nu = \"%.3E\" % N\n",
    "    Nu = Nu.replace(\".\",\"p\")\n",
    "    Nu = Nu.replace(\"-\",\"m\")\n",
    "    Nu = Nu.replace(\"+\",\"\")\n",
    "\n",
    "    flname = mdl_name + 'k_keq_' + ku + '_Neq_' +  Nu\n",
    "    return flname"
   ]
  },
  {
   "cell_type": "markdown",
   "metadata": {},
   "source": [
    "# Lists for loading specific kappa/N pairs"
   ]
  },
  {
   "cell_type": "code",
   "execution_count": 5,
   "metadata": {},
   "outputs": [],
   "source": [
    "# make sample list of kappa values\n",
    "kappa_list = 10.0 ** (np.linspace(-7,-4,30))\n",
    "# make sample list of N values\n",
    "N_list = 10.0 ** (np.linspace(2,5,30))"
   ]
  },
  {
   "cell_type": "code",
   "execution_count": 6,
   "metadata": {},
   "outputs": [],
   "source": [
    "def mk_heatmap_data(mdl_name,kappa_list,N_list):\n",
    "    n_kappa = len(kappa_list)\n",
    "    n_pop = len(N_list)\n",
    "    timeSpent_mat = np.zeros([n_kappa,n_pop])\n",
    "    k_val_vec = np.zeros(n_kappa)\n",
    "    N_val_vec = np.zeros(n_pop)\n",
    "            \n",
    "    for i in range(len(kappa_list)):\n",
    "        for j in range(len(N_list)):\n",
    "            # Make strings for file names\n",
    "            kappa = kappa_list[i]\n",
    "            ku = \"%.3E\" % kappa\n",
    "            ku = ku.replace(\".\",\"p\")\n",
    "            ku = ku.replace(\"-\",\"m\")\n",
    "            ku = ku.replace(\"+\",\"\")\n",
    "\n",
    "            N = N_list[j]\n",
    "            Nu = \"%.3E\" % N\n",
    "            Nu = Nu.replace(\".\",\"p\")\n",
    "            Nu = Nu.replace(\"-\",\"m\")\n",
    "            Nu = Nu.replace(\"+\",\"\")\n",
    "\n",
    "            flname = mdl_name + 'k_keq_' + ku + '_Neq_' +  Nu\n",
    "            # load the sim-data\n",
    "            simdat = genfromtxt(projPath + mdl_name + '/' + flname, delimiter=',')\n",
    "            # Organize the data and find KL div\n",
    "            inf_data = np.array(simdat[:,1])\n",
    "\n",
    "            # calculate time with infectious individuals\n",
    "            timeSpent_mat[i,j] = (len(np.array([x for x in inf_data if x == 0]))-1) * (simdat[1,0]-simdat[0,0]) / simdat[-1,0]\n",
    "            k_val_vec[i] = simdat[0,2] # kappa values\n",
    "            N_val_vec[j] = simdat[0,3] # N values\n",
    "            \n",
    "    timeSpent_dict = {\"timeSpent Matrix\" : timeSpent_mat,\n",
    "                      \"kval Vector\" : k_val_vec,\n",
    "                      \"Nval Vector\" : N_val_vec}\n",
    "    \n",
    "    with open(mdl_name + '_timeSpent.pkl', 'wb') as handle:\n",
    "        pickle.dump(timeSpent_dict, handle, protocol=pickle.HIGHEST_PROTOCOL)\n",
    "\n",
    "    return timeSpent_dict"
   ]
  },
  {
   "cell_type": "code",
   "execution_count": 8,
   "metadata": {},
   "outputs": [],
   "source": [
    "# SI_kldict = mk_heatmap_data('SI',kappa_list,N_list)"
   ]
  },
  {
   "cell_type": "code",
   "execution_count": 10,
   "metadata": {},
   "outputs": [
    {
     "ename": "IndexError",
     "evalue": "too many indices for array: array is 1-dimensional, but 2 were indexed",
     "output_type": "error",
     "traceback": [
      "\u001b[1;31m---------------------------------------------------------------------------\u001b[0m",
      "\u001b[1;31mIndexError\u001b[0m                                Traceback (most recent call last)",
      "\u001b[1;32m<ipython-input-10-8f56d98cf544>\u001b[0m in \u001b[0;36m<module>\u001b[1;34m\u001b[0m\n\u001b[1;32m----> 1\u001b[1;33m \u001b[0mSIS_kldict\u001b[0m \u001b[1;33m=\u001b[0m \u001b[0mmk_heatmap_data\u001b[0m\u001b[1;33m(\u001b[0m\u001b[1;34m'SIS'\u001b[0m\u001b[1;33m,\u001b[0m\u001b[0mkappa_list\u001b[0m\u001b[1;33m,\u001b[0m\u001b[0mN_list\u001b[0m\u001b[1;33m)\u001b[0m\u001b[1;33m\u001b[0m\u001b[1;33m\u001b[0m\u001b[0m\n\u001b[0m",
      "\u001b[1;32m<ipython-input-6-9192426b24d9>\u001b[0m in \u001b[0;36mmk_heatmap_data\u001b[1;34m(mdl_name, kappa_list, N_list)\u001b[0m\n\u001b[0;32m     25\u001b[0m             \u001b[0msimdat\u001b[0m \u001b[1;33m=\u001b[0m \u001b[0mgenfromtxt\u001b[0m\u001b[1;33m(\u001b[0m\u001b[0mprojPath\u001b[0m \u001b[1;33m+\u001b[0m \u001b[0mmdl_name\u001b[0m \u001b[1;33m+\u001b[0m \u001b[1;34m'/'\u001b[0m \u001b[1;33m+\u001b[0m \u001b[0mflname\u001b[0m\u001b[1;33m,\u001b[0m \u001b[0mdelimiter\u001b[0m\u001b[1;33m=\u001b[0m\u001b[1;34m','\u001b[0m\u001b[1;33m)\u001b[0m\u001b[1;33m\u001b[0m\u001b[1;33m\u001b[0m\u001b[0m\n\u001b[0;32m     26\u001b[0m             \u001b[1;31m# Organize the data and find KL div\u001b[0m\u001b[1;33m\u001b[0m\u001b[1;33m\u001b[0m\u001b[1;33m\u001b[0m\u001b[0m\n\u001b[1;32m---> 27\u001b[1;33m             \u001b[0minf_data\u001b[0m \u001b[1;33m=\u001b[0m \u001b[0mnp\u001b[0m\u001b[1;33m.\u001b[0m\u001b[0marray\u001b[0m\u001b[1;33m(\u001b[0m\u001b[0msimdat\u001b[0m\u001b[1;33m[\u001b[0m\u001b[1;33m:\u001b[0m\u001b[1;33m,\u001b[0m\u001b[1;36m1\u001b[0m\u001b[1;33m]\u001b[0m\u001b[1;33m)\u001b[0m\u001b[1;33m\u001b[0m\u001b[1;33m\u001b[0m\u001b[0m\n\u001b[0m\u001b[0;32m     28\u001b[0m \u001b[1;33m\u001b[0m\u001b[0m\n\u001b[0;32m     29\u001b[0m             \u001b[1;31m# calculate time with infectious individuals\u001b[0m\u001b[1;33m\u001b[0m\u001b[1;33m\u001b[0m\u001b[1;33m\u001b[0m\u001b[0m\n",
      "\u001b[1;31mIndexError\u001b[0m: too many indices for array: array is 1-dimensional, but 2 were indexed"
     ]
    }
   ],
   "source": [
    "SIS_kldict = mk_heatmap_data('SIS',kappa_list,N_list)"
   ]
  },
  {
   "cell_type": "code",
   "execution_count": 21,
   "metadata": {},
   "outputs": [],
   "source": [
    "SIR_kldict = mk_heatmap_data('SIR',kappa_list,N_list)"
   ]
  },
  {
   "cell_type": "code",
   "execution_count": 22,
   "metadata": {},
   "outputs": [],
   "source": [
    "SEIR_kldict = mk_heatmap_data('SEIR',kappa_list,N_list)"
   ]
  },
  {
   "cell_type": "code",
   "execution_count": null,
   "metadata": {},
   "outputs": [],
   "source": []
  }
 ],
 "metadata": {
  "@webio": {
   "lastCommId": null,
   "lastKernelId": null
  },
  "kernelspec": {
   "display_name": "Python 3",
   "language": "python",
   "name": "python3"
  },
  "language_info": {
   "codemirror_mode": {
    "name": "ipython",
    "version": 3
   },
   "file_extension": ".py",
   "mimetype": "text/x-python",
   "name": "python",
   "nbconvert_exporter": "python",
   "pygments_lexer": "ipython3",
   "version": "3.8.5"
  }
 },
 "nbformat": 4,
 "nbformat_minor": 2
}
