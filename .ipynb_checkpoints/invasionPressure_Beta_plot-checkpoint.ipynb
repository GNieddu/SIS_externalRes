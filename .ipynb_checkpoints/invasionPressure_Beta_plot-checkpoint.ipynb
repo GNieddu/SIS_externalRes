{
 "cells": [
  {
   "cell_type": "code",
   "execution_count": 2,
   "metadata": {},
   "outputs": [],
   "source": [
    "import numpy as np\n",
    "import matplotlib.pyplot as plt\\\n",
    "# from matplotlib import cm\n",
    "import pandas as pd\n",
    "import os\n",
    "from scipy import stats\n",
    "from numpy import genfromtxt\n",
    "from scipy.integrate import quad\n",
    "import matplotlib.ticker as mtick\n",
    "import scipy\n",
    "import pickle"
   ]
  },
  {
   "cell_type": "code",
   "execution_count": 3,
   "metadata": {},
   "outputs": [],
   "source": [
    "projPath = 'C:/Users/WeNieds/Repos/SIS_externalRes/makeSimData/out/'"
   ]
  },
  {
   "cell_type": "code",
   "execution_count": 4,
   "metadata": {},
   "outputs": [],
   "source": [
    "def genFlName(mdl_name, kappa_val, N_val, B_val):\n",
    "    kappa = kappa_val\n",
    "    ku = \"%.3E\" % kappa\n",
    "    ku = ku.replace(\".\",\"p\")\n",
    "    ku = ku.replace(\"-\",\"m\")\n",
    "    ku = ku.replace(\"+\",\"\")\n",
    "\n",
    "    N = N_val\n",
    "    Nu = \"%.3E\" % N\n",
    "    Nu = Nu.replace(\".\",\"p\")\n",
    "    Nu = Nu.replace(\"-\",\"m\")\n",
    "    Nu = Nu.replace(\"+\",\"\")\n",
    "    \n",
    "    B = B_val\n",
    "    Bu = \"%.3E\" % B\n",
    "    Bu = Bu.replace(\".\",\"p\")\n",
    "    Bu = Bu.replace(\"-\",\"m\")\n",
    "    Bu = Bu.replace(\"+\",\"\")\n",
    "\n",
    "    flname = mdl_name + 'k_keq_' + ku + '_Neq_' +  Nu + '_Beq_' + Bu\n",
    "    return flname"
   ]
  },
  {
   "cell_type": "markdown",
   "metadata": {},
   "source": [
    "# Lists for loading specific kappa/N pairs"
   ]
  },
  {
   "cell_type": "code",
   "execution_count": 5,
   "metadata": {},
   "outputs": [],
   "source": [
    "# make sample list of kappa values\n",
    "kappa_list = 10.0 ** (np.linspace(-7,-2,100))\n",
    "# make sample list of N values\n",
    "N_list = np.array([10.0 ** 4])\n",
    "# beta values\n",
    "B_list = np.linspace(0.01,2.5,100)"
   ]
  },
  {
   "cell_type": "code",
   "execution_count": 6,
   "metadata": {},
   "outputs": [],
   "source": [
    "def mk_time_spent_dat(mdl_name,kappa_list,N_list,B_list):\n",
    "    n_kappa = len(kappa_list)\n",
    "    n_pop = len(N_list)\n",
    "    n_beta = len(B_list)\n",
    "    timeSpent_mat = np.zeros([n_kappa,n_beta])\n",
    "    k_val_vec = np.zeros(n_kappa)\n",
    "    N_val_vec = np.zeros(n_pop)\n",
    "    B_val_vec = np.zeros(n_beta)\n",
    "            \n",
    "    for i in range(n_kappa):\n",
    "        for j in range(n_pop):\n",
    "            for l in range(n_beta):\n",
    "                \n",
    "                # Make strings for file names\n",
    "                kappa = kappa_list[i]\n",
    "                ku = \"%.3E\" % kappa\n",
    "                ku = ku.replace(\".\",\"p\")\n",
    "                ku = ku.replace(\"-\",\"m\")\n",
    "                ku = ku.replace(\"+\",\"\")\n",
    "\n",
    "                N = N_list[j]\n",
    "                Nu = \"%.3E\" % N\n",
    "                Nu = Nu.replace(\".\",\"p\")\n",
    "                Nu = Nu.replace(\"-\",\"m\")\n",
    "                Nu = Nu.replace(\"+\",\"\")\n",
    "\n",
    "                B = B_list[l]\n",
    "                Bu = \"%.3E\" % B\n",
    "                Bu = Bu.replace(\".\",\"p\")\n",
    "                Bu = Bu.replace(\"-\",\"m\")\n",
    "                Bu = Bu.replace(\"+\",\"\")\n",
    "\n",
    "                flname = mdl_name + 'k_keq_' + ku + '_Neq_' +  Nu + '_Beq_' + Bu\n",
    "                # load the sim-data\n",
    "                simdat = genfromtxt(projPath + flname, delimiter=',')\n",
    "                # Organize the data and find KL div\n",
    "                inf_data = np.array(simdat[:,1])\n",
    "\n",
    "                # calculate time with infectious individuals\n",
    "                timeSpent_mat[i,l] = 1 # Now I need to make this send back proportion of time spent diseased\n",
    "                k_val_vec[i] = simdat[0,2] # kappa values\n",
    "                N_val_vec[j] = simdat[0,3] # N values\n",
    "                B_val_vec[l] = simdat[0,4] # B values\n",
    "                # print()\n",
    "                # print(simdat[1:-1,1]!=0)\n",
    "                # Only use this approach if we know the \n",
    "                #    space between observations. Here it \n",
    "                #    is two days.\n",
    "                if (all(np.diff(simdat[:,0],1)==2.0)):\n",
    "                    # Count the number of non-zero entries other than\n",
    "                    # at time zero\n",
    "                    n_nonzero = len(simdat[1:-1,1][simdat[1:-1,1]!=0])\n",
    "                    time_nonzero = 2.0 * n_nonzero\n",
    "                    end_time = simdat[-1,0]\n",
    "                    total_duration = end_time - 2.0 # again using knowledge of 2.0 day\n",
    "                    proportion_nonzero = time_nonzero / total_duration\n",
    "                    timeSpent_mat[i,l] = proportion_nonzero\n",
    "    \n",
    "            \n",
    "    timeSpent_dict = {\"timeSpent Matrix\" : timeSpent_mat,\n",
    "                      \"kval Vector\" : k_val_vec,\n",
    "                      \"Bval Vector\" : B_val_vec\n",
    "                     }\n",
    "    \n",
    "    with open(mdl_name + '_timeSpent.pkl', 'wb') as handle:\n",
    "        pickle.dump(timeSpent_dict, handle, protocol=pickle.HIGHEST_PROTOCOL)\n",
    "\n",
    "    return timeSpent_dict"
   ]
  },
  {
   "cell_type": "code",
   "execution_count": 6,
   "metadata": {},
   "outputs": [
    {
     "name": "stdout",
     "output_type": "stream",
     "text": [
      "[[0.         0.         0.         ... 0.         0.         0.        ]\n",
      " [0.         0.00401606 0.         ... 0.81927711 0.         0.        ]\n",
      " [0.         0.         0.         ... 0.         0.64658635 0.46987952]\n",
      " ...\n",
      " [1.         1.         1.         ... 1.         1.         1.        ]\n",
      " [1.         1.         1.         ... 1.         1.         1.        ]\n",
      " [1.         1.         1.         ... 1.         1.         1.        ]]\n"
     ]
    }
   ],
   "source": [
    "proportionTimeWithDisease = mk_time_spent_dat('SI',kappa_list,N_list,B_list)\n",
    "print(proportionTimeWithDisease['timeSpent Matrix'])"
   ]
  },
  {
   "cell_type": "code",
   "execution_count": 7,
   "metadata": {},
   "outputs": [
    {
     "name": "stdout",
     "output_type": "stream",
     "text": [
      "1.0\n",
      "0.0\n"
     ]
    }
   ],
   "source": [
    "proportionTimeWithDisease.keys()\n",
    "timeMat = proportionTimeWithDisease['timeSpent Matrix']\n",
    "print(np.max(timeMat))\n",
    "print(np.min(timeMat))"
   ]
  },
  {
   "cell_type": "markdown",
   "metadata": {},
   "source": [
    "# Find boundary where derivative of pdf is zero"
   ]
  },
  {
   "cell_type": "code",
   "execution_count": 8,
   "metadata": {},
   "outputs": [],
   "source": [
    "import numpy as np\n",
    "import matplotlib.pyplot as plt\n",
    "from scipy import stats\n",
    "import matplotlib.ticker as mtick\n",
    "import scipy\n",
    "import seaborn as sns\n",
    "from matplotlib import cm\n",
    "from scipy.optimize import minimize\n",
    "\n",
    "def DpdfSISkappa(N,mu,gam,beta,ln_kappa):\n",
    "    return(np.log(beta/(N*(gam+mu)))+scipy.special.digamma(N*np.exp(ln_kappa)/beta)+scipy.special.digamma(N+1)-scipy.special.digamma(1))\n",
    "def deriv_PDF_atzero_eqzero(N,mu,gam,beta,ln_kappa):\n",
    "    return( (DpdfSISkappa(N,mu,gam,beta,ln_kappa)+1)**2 )\n",
    "my_mu = 5e-5\n",
    "my_gam=1.0\n",
    "\n",
    "len_out = 100\n",
    "# make sample list of N values\n",
    "N_list = np.array([10.0 ** 4])\n",
    "# beta values\n",
    "B_list = np.linspace(0.01,2.5,len_out)\n",
    "\n",
    "\n",
    "# Initialize results vector\n",
    "res_vec_zero = np.zeros([len_out,2])\n",
    "# Only one N val here\n",
    "N_in = N_list[0]\n",
    "for i in range(len(B_list)):\n",
    "    beta_in = B_list[i]\n",
    "    def f(x):\n",
    "        return( deriv_PDF_atzero_eqzero(N_in,my_mu,my_gam,beta_in,x) )\n",
    "    res = scipy.optimize.minimize(f,-5,method='L-BFGS-B')\n",
    "    kappa_opt = np.exp(res.x[0])\n",
    "    res_vec_zero[i,0] = beta_in\n",
    "    res_vec_zero[i,1] = kappa_opt*N_in"
   ]
  },
  {
   "cell_type": "code",
   "execution_count": 9,
   "metadata": {
    "scrolled": true
   },
   "outputs": [
    {
     "name": "stderr",
     "output_type": "stream",
     "text": [
      "findfont: Font family ['normal'] not found. Falling back to DejaVu Sans.\n"
     ]
    },
    {
     "data": {
      "image/png": "[encoded data removed]",
      "text/plain": [
       "<Figure size 432x288 with 2 Axes>"
      ]
     },
     "metadata": {
      "needs_background": "light"
     },
     "output_type": "display_data"
    }
   ],
   "source": [
    "fig = plt.figure()\n",
    "ax = fig.add_subplot(111)\n",
    "plot1 = plt.contourf(B_list,kappa_list*N_list[0],timeMat,cmap = cm.coolwarm)\n",
    "\n",
    "plt.ylabel('Invasion Pressure')\n",
    "plt.xlabel('Contact Rate')\n",
    "# ax.yaxis.set_major_formatter(mtick.FormatStrFormatter('%1.1e'))\n",
    "# ax.xaxis.set_major_formatter(mtick.FormatStrFormatter('%1.0e'))\n",
    "ax.set_yscale('log')\n",
    "# ax.set_xscale('log')\n",
    "\n",
    "font = {'family' : 'normal',\n",
    "        'weight' : 'normal',\n",
    "        'size'   : 18}\n",
    "plt.rc('font', **font)\n",
    "\n",
    "R0_curve = lambda mu_in,gamma_in : (mu_in + gamma_in)\n",
    "plt.axvline(x=R0_curve(1e-5,1),linestyle =\"--\",color=\"black\")\n",
    "\n",
    "plt.plot(res_vec_zero[:,0],res_vec_zero[:,1],color='r',linestyle='--')\n",
    "\n",
    "# Add colorbar, make sure to specify tick locations to match desired ticklabels\n",
    "cbar = plt.colorbar(plot1, ticks=np.linspace(0,1.05,5))\n",
    "cbar.ax.set_yticklabels(['0','0.25','0.5','0.75', '1'])  # vertically oriented colorbar\n",
    "plt.savefig(\"TimeDiseasePresent_colormap.pdf\", bbox_inches='tight')"
   ]
  },
  {
   "cell_type": "code",
   "execution_count": 18,
   "metadata": {},
   "outputs": [
    {
     "data": {
      "image/png": "[encoded data removed]",
      "text/plain": [
       "<Figure size 432x288 with 2 Axes>"
      ]
     },
     "metadata": {
      "needs_background": "light"
     },
     "output_type": "display_data"
    }
   ],
   "source": [
    "fig = plt.figure()\n",
    "ax = fig.add_subplot(111)\n",
    "plot1 = plt.contourf(B_list,kappa_list*N_list[0],timeMat,cmap = cm.coolwarm)\n",
    "\n",
    "plt.ylabel('Invasion Pressure')\n",
    "plt.xlabel('Contact Rate')\n",
    "# ax.yaxis.set_major_formatter(mtick.FormatStrFormatter('%1.1e'))\n",
    "# ax.xaxis.set_major_formatter(mtick.FormatStrFormatter('%1.0e'))\n",
    "ax.set_yscale('log')\n",
    "# ax.set_xscale('log')\n",
    "\n",
    "font = {'family' : 'normal',\n",
    "        'weight' : 'normal',\n",
    "        'size'   : 18}\n",
    "plt.rc('font', **font)\n",
    "\n",
    "R0_curve = lambda mu_in,gamma_in : (mu_in + gamma_in)\n",
    "plt.axvline(x=R0_curve(1e-5,1),linestyle =\"--\",color=\"black\")\n",
    "\n",
    "plt.hlines(y=1,xmin=0,xmax=1,color='white',linestyle='--',linewidth=3)\n",
    "# Add colorbar, make sure to specify tick locations to match desired ticklabels\n",
    "cbar = plt.colorbar(plot1, ticks=np.linspace(0,1.05,5))\n",
    "cbar.ax.set_yticklabels(['0','0.25','0.5','0.75', '1'])  # vertically oriented colorbar\n",
    "\n",
    "plt.ylim([1e-3,1e1])\n",
    "plt.savefig(\"TimeDiseasePresent_colormap.pdf\", bbox_inches='tight')"
   ]
  },
  {
   "cell_type": "code",
   "execution_count": 1,
   "metadata": {},
   "outputs": [],
   "source": []
  },
  {
   "cell_type": "code",
   "execution_count": 3,
   "metadata": {},
   "outputs": [
    {
     "data": {
      "text/plain": [
       "[<matplotlib.lines.Line2D at 0x2c095bfbc10>]"
      ]
     },
     "execution_count": 3,
     "metadata": {},
     "output_type": "execute_result"
    },
    {
     "name": "stderr",
     "output_type": "stream",
     "text": [
      "findfont: Font family ['normal'] not found. Falling back to DejaVu Sans.\n"
     ]
    },
    {
     "data": {
      "image/png": "[encoded data removed]",
      "text/plain": [
       "<Figure size 432x288 with 1 Axes>"
      ]
     },
     "metadata": {
      "needs_background": "light"
     },
     "output_type": "display_data"
    }
   ],
   "source": [
    "fig = plt.figure()\n",
    "ax = fig.add_subplot(111)\n",
    "font = {'family' : 'normal',\n",
    "        'weight' : 'normal',\n",
    "        'size'   : 12}\n",
    "plt.rc('font', **font)\n"
   ]
  },
  {
   "cell_type": "code",
   "execution_count": null,
   "metadata": {},
   "outputs": [],
   "source": []
  }
 ],
 "metadata": {
  "@webio": {
   "lastCommId": null,
   "lastKernelId": null
  },
  "kernelspec": {
   "display_name": "Python 3",
   "language": "python",
   "name": "python3"
  },
  "language_info": {
   "codemirror_mode": {
    "name": "ipython",
    "version": 3
   },
   "file_extension": ".py",
   "mimetype": "text/x-python",
   "name": "python",
   "nbconvert_exporter": "python",
   "pygments_lexer": "ipython3",
   "version": "3.8.5"
  }
 },
 "nbformat": 4,
 "nbformat_minor": 2
}
