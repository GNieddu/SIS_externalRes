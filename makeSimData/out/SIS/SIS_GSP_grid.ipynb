{
 "cells": [
  {
   "cell_type": "code",
   "execution_count": 1,
   "metadata": {},
   "outputs": [],
   "source": [
    "using Distributed \n",
    "addprocs(19)\n",
    "@everywhere using DelimitedFiles\n",
    "@everywhere using Random, Distributions;  Random.seed!();\n",
    "@everywhere using Distributed"
   ]
  },
  {
   "cell_type": "code",
   "execution_count": 2,
   "metadata": {},
   "outputs": [],
   "source": [
    "@everywhere using Statistics\n",
    "@everywhere using SpecialFunctions\n",
    "@everywhere using QuadGK\n",
    "@everywhere using DataStructures\n",
    "@everywhere using DelimitedFiles\n",
    "@everywhere using Roots"
   ]
  },
  {
   "cell_type": "code",
   "execution_count": 3,
   "metadata": {},
   "outputs": [],
   "source": [
    "#SISk\n",
    "@everywhere function SISk(x,parms)\n",
    "    (S,I) = x\n",
    "    (μ,β,κ,γ,N) = parms\n",
    "    birth = μ*N\n",
    "    death = μ*S\n",
    "    infection = β*S*I/N + κ*S\n",
    "    recovery = γ*I\n",
    "    death_INF = μ*I\n",
    "    event_weight = [birth death infection recovery death_INF]\n",
    "    event_shift = [[1 0]; [-1 0]; [-1 1]; [1 -1]; [0 -1]]\n",
    "    return event_weight, event_shift\n",
    "end"
   ]
  },
  {
   "cell_type": "code",
   "execution_count": 4,
   "metadata": {},
   "outputs": [],
   "source": [
    "@everywhere function GSP(F::Function,state,parms,time_end)\n",
    "    time_points = collect(0:2:floor(time_end))\n",
    "    I_vec_out = zeros(length(time_points))\n",
    "    I_vec_out[1] = state[2]\n",
    "    t = 0 #initial time is zero\n",
    "    a = []    \n",
    "    enact_event = zeros(0)\n",
    "\n",
    "    while t<(time_points[end] +2)\n",
    "        \n",
    "        # to build time interval\n",
    "        t1 = t\n",
    "        \n",
    "        ###############\n",
    "        ## time step ##\n",
    "        ###############\n",
    "        a = F(state,parms)\n",
    "\n",
    "        cumul_a = cumsum(a[1][1,:])\n",
    "        num_o_events = length(a[1][1,:])\n",
    "        a0 = cumul_a[num_o_events]\n",
    "        #random numbers\n",
    "        r1 = rand()\n",
    "        r2 = rand()\n",
    "        dtau = (1/a0)*log(1/r1)\n",
    "        t += dtau\n",
    "        \n",
    "        ################################\n",
    "        ### Append the output vector ###\n",
    "        ################################\n",
    "\n",
    "        timeloc =  findall(x->(x>t1 && x<=t), time_points)\n",
    "        I_vec_out[timeloc] = repeat([state[2]],inner=1,outer=length(timeloc))\n",
    "        \n",
    "\n",
    "        ##############################\n",
    "        ### determine event ##########\n",
    "        ##############################\n",
    "        marker = r2*a0\n",
    "        i=1\n",
    "        while i<=num_o_events\n",
    "            if marker<=cumul_a[i]\n",
    "                enact_event = i\n",
    "                i = num_o_events+1\n",
    "            end\n",
    "            i+=1\n",
    "        end\n",
    "\n",
    "\n",
    "        #######################\n",
    "        ### change the state ##\n",
    "        #######################\n",
    "        state = state + (a[2][enact_event,:])' #these are the state alterations defined by the function\n",
    "\n",
    "\n",
    "    end #end while\n",
    "\n",
    "    return time_points, I_vec_out\n",
    "end "
   ]
  },
  {
   "cell_type": "code",
   "execution_count": 7,
   "metadata": {},
   "outputs": [],
   "source": [
    "###################\n",
    "### run GSP sim ###\n",
    "###################\n",
    "@everywhere using Printf\n",
    "@everywhere function run_GSP(kval_u,Nval_u)\n",
    "    \n",
    "    \n",
    "#     kmat = readdlm(\"/C:/Users/WeNieds/Repos/SISkappa/data/in/SIS_IC_k.csv\", ',', Float64)\n",
    "    kmat = readdlm(\"C:/Users/WeNieds/Repos/SIS_externalRes/makeSimData/in/SIS_IC_k_test.csv\", ',', Float64)\n",
    "    bleck = 18\n",
    "    krow_util = findall(x->x==round(kval_u,digits=bleck), round.(kmat,digits=bleck))\n",
    "    krow = krow_util[1][1]\n",
    "\n",
    "    Nmat = readdlm(\"C:/Users/WeNieds/Repos/SIS_externalRes/makeSimData/in/SIS_IC_N_test.csv\", ',', Float64)\n",
    "    blah = 9\n",
    "    Ncol_util = findall(x->x==round(Nval_u,digits=blah), round.(Nmat,digits=blah))\n",
    "    Ncol = Ncol_util[1][2] # returns the correct column\n",
    "\n",
    "    ICmat = readdlm(\"C:/Users/WeNieds/Repos/SIS_externalRes/makeSimData/in/SIS_IC_test.csv\", ',', Float64)\n",
    "    \n",
    "    I_IC = ICmat[krow,Ncol]\n",
    "\n",
    "    S_IC = floor(Nval_u) - I_IC\n",
    "    u0 = [S_IC I_IC]\n",
    "    \n",
    "    # set parameters find equilibrium\n",
    "    param=[5e-5 0.5 kval_u 1 Nval_u]\n",
    "    \n",
    "\n",
    "    # Make initial conditions\n",
    "     (μ,β,κ,γ,N) = param\n",
    "\n",
    "    # run the Gillespie simulation\n",
    "#     simdat = GSP(SISk,u0,param,2000);\n",
    "    simdat = GSP(SISk,u0,param,10);\n",
    "    n_len = length(simdat[1])\n",
    "    kap_vec = zeros(n_len)\n",
    "    kap_vec[1] = κ\n",
    "    N_vec = zeros(n_len)\n",
    "    N_vec[1] = N\n",
    "    \n",
    "    # Make strings for file names\n",
    "    ku = @sprintf(\"%.3E\", κ)\n",
    "    ku = replace(ku, \".\" => \"p\")\n",
    "    ku = replace(ku, \"-\" => \"m\")\n",
    "    ku = replace(ku, \"+\" => \"\")\n",
    "    \n",
    "    Nu = @sprintf(\"%.3E\", N)\n",
    "    Nu = replace(Nu, \".\" => \"p\")\n",
    "    Nu = replace(Nu, \"-\" => \"m\")\n",
    "    Nu = replace(Nu, \"+\" => \"\")\n",
    "    \n",
    "    simdat_util = [simdat[1] simdat[2] kap_vec N_vec] \n",
    "    flname = \"SISk_keq_\"*ku*\"_Neq_\"*Nu\n",
    "    writedlm(flname,  simdat_util, ',') \n",
    "\n",
    "    return nothing\n",
    "end"
   ]
  },
  {
   "cell_type": "code",
   "execution_count": 8,
   "metadata": {
    "scrolled": true
   },
   "outputs": [
    {
     "data": {
      "text/plain": [
       "4-element Array{Nothing,1}:\n",
       " nothing\n",
       " nothing\n",
       " nothing\n",
       " nothing"
      ]
     },
     "execution_count": 8,
     "metadata": {},
     "output_type": "execute_result"
    },
    {
     "name": "stdout",
     "output_type": "stream",
     "text": [
      "      From worker 13:\tErrorException(\"Process(13) - Invalid connection credentials sent by remote.\")CapturedException(ErrorException(\"Process(13) - Invalid connection credentials sent by remote.\"), Any[(error(::String) at error.jl:33, 1), (process_hdr(::Sockets.TCPSocket, ::Bool) at process_messages.jl:273, 1), (message_handler_loop(::Sockets.TCPSocket, ::Sockets.TCPSocket, ::Bool) at process_messages.jl:167, 1), (process_tcp_streams(::Sockets.TCPSocket, ::Sockets.TCPSocket, ::Bool) at process_messages.jl:142, 1), ((::Distributed.var\"#99#100\"{Sockets.TCPSocket,Sockets.TCPSocket,Bool})() at task.jl:356, 1)])\n",
      "      From worker 13:\tProcess(13) - Unknown remote, closing connection.\n",
      "      From worker 13:\tErrorException(\"Process(13) - Invalid connection credentials sent by remote.\")CapturedException(ErrorException(\"Process(13) - Invalid connection credentials sent by remote.\"), Any[(error(::String) at error.jl:33, 1), (process_hdr(::Sockets.TCPSocket, ::Bool) at process_messages.jl:273, 1), (message_handler_loop(::Sockets.TCPSocket, ::Sockets.TCPSocket, ::Bool) at process_messages.jl:167, 1), (process_tcp_streams(::Sockets.TCPSocket, ::Sockets.TCPSocket, ::Bool) at process_messages.jl:142, 1), ((::Distributed.var\"#99#100\"{Sockets.TCPSocket,Sockets.TCPSocket,Bool})() at task.jl:356, 1)])\n",
      "      From worker 13:\tProcess(13) - Unknown remote, closing connection.\n"
     ]
    }
   ],
   "source": [
    "# make sample list of kappa values\n",
    "# kappa_list_util = 10.0 .^(range(-7,stop=-4,length=30))\n",
    "kappa_list_util = 10.0 .^(range(-7,stop=-4,length=2))\n",
    "kappa_list = zeros(0)\n",
    "\n",
    "# make sample list of N values\n",
    "# N_list_util = 10.0 .^(range(2,stop=5,length=30))\n",
    "N_list_util = 10.0 .^(range(2,stop=5,length=2))\n",
    "N_list = zeros(0)\n",
    "\n",
    "for i in kappa_list_util\n",
    "    for j in N_list_util\n",
    "        # make lists for pmap\n",
    "        append!(kappa_list, i)\n",
    "        append!(N_list, j)\n",
    "    end\n",
    "end\n",
    "pmap(run_GSP,kappa_list,N_list)"
   ]
  },
  {
   "cell_type": "code",
   "execution_count": null,
   "metadata": {},
   "outputs": [],
   "source": []
  }
 ],
 "metadata": {
  "@webio": {
   "lastCommId": null,
   "lastKernelId": null
  },
  "kernelspec": {
   "display_name": "Julia 1.5.3",
   "language": "julia",
   "name": "julia-1.5"
  },
  "language_info": {
   "file_extension": ".jl",
   "mimetype": "application/julia",
   "name": "julia",
   "version": "1.5.3"
  }
 },
 "nbformat": 4,
 "nbformat_minor": 2
}
